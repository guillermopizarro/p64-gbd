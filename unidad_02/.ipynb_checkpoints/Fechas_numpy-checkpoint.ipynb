{
 "cells": [
  {
   "cell_type": "code",
   "execution_count": 38,
   "id": "c3a4f911-bae1-43c1-b16b-f6e1df831438",
   "metadata": {},
   "outputs": [],
   "source": [
    "import numpy as np\n",
    "from datetime import datetime\n",
    "from dateutil.relativedelta import relativedelta"
   ]
  },
  {
   "cell_type": "code",
   "execution_count": 6,
   "id": "546cd938-d13f-4156-a9f8-4ebbbcaec2cc",
   "metadata": {},
   "outputs": [
    {
     "name": "stdout",
     "output_type": "stream",
     "text": [
      "2024-07-27\n"
     ]
    }
   ],
   "source": [
    "# Crear una fecha específica\n",
    "fecha = np.datetime64('2024-07-27')\n",
    "print(fecha)"
   ]
  },
  {
   "cell_type": "code",
   "execution_count": 14,
   "id": "689357ec-472b-4d5c-a620-ef862984a3a1",
   "metadata": {},
   "outputs": [
    {
     "name": "stdout",
     "output_type": "stream",
     "text": [
      "2024-07-27\n"
     ]
    }
   ],
   "source": [
    "fecha_actual = np.datetime64('today', 'D')\n",
    "print(fecha_actual)"
   ]
  },
  {
   "cell_type": "code",
   "execution_count": 8,
   "id": "c4fb62a9-286a-4420-8873-63d600a60a1b",
   "metadata": {},
   "outputs": [
    {
     "name": "stdout",
     "output_type": "stream",
     "text": [
      "2024-08-06\n"
     ]
    }
   ],
   "source": [
    "# Añadir días a una fecha\n",
    "nueva_fecha = fecha + np.timedelta64(10, 'D')\n",
    "print(nueva_fecha)  # 10 días después de la fecha"
   ]
  },
  {
   "cell_type": "code",
   "execution_count": 22,
   "id": "45d8067d-23ff-4d07-b8ed-a59dd457f2b3",
   "metadata": {},
   "outputs": [
    {
     "name": "stdout",
     "output_type": "stream",
     "text": [
      "2024-10-28\n"
     ]
    }
   ],
   "source": [
    "# Añadir meses (aproximadamente, ya que la duración de un mes puede variar)\n",
    "nueva_fecha_meses = fecha + np.timedelta64(3*31, 'D')\n",
    "print(nueva_fecha_meses)  # Aproximadamente 3 meses después de la fecha"
   ]
  },
  {
   "cell_type": "code",
   "execution_count": 40,
   "id": "b810f399-0d3a-4c56-a364-8043b0cd4002",
   "metadata": {},
   "outputs": [
    {
     "name": "stdout",
     "output_type": "stream",
     "text": [
      "2024-10-27 00:00:00\n"
     ]
    }
   ],
   "source": [
    "# Se está quitando 1 año a la fecha actual.\n",
    "fecha = np.datetime64('2024-07-27')\n",
    "fecha = datetime.strptime(str(fecha), '%Y-%m-%d')\n",
    "nueva_fecha_meses = fecha + relativedelta(months=3)\n",
    "print(nueva_fecha_meses)"
   ]
  },
  {
   "cell_type": "code",
   "execution_count": 47,
   "id": "5dc372d4-3f0f-4e37-a396-5f7b5aca6d44",
   "metadata": {},
   "outputs": [
    {
     "name": "stdout",
     "output_type": "stream",
     "text": [
      "182 days\n"
     ]
    }
   ],
   "source": [
    "\n",
    "# Diferencia entre dos fechas\n",
    "fecha1 = np.datetime64('2024-01-01')\n",
    "fecha2 = np.datetime64('2024-07-01')\n",
    "diferencia = fecha2 - fecha1\n",
    "print(diferencia)  # Diferencia en días"
   ]
  },
  {
   "cell_type": "code",
   "execution_count": 71,
   "id": "cbce298f-d33a-4fe7-9cbd-0039bf686ab2",
   "metadata": {},
   "outputs": [
    {
     "name": "stdout",
     "output_type": "stream",
     "text": [
      "2024-07-19\n"
     ]
    }
   ],
   "source": [
    "#fecha_actual = np.datetime64('today', 'D')\n",
    "fecha_actual = np.datetime64('2024-07-24')\n",
    "\n",
    "# Restar dias específicos con `np.busday_offset` (días hábiles)\n",
    "fecha_con_resta_meses = np.busday_offset(fecha_actual, -3, roll='backward')\n",
    "print(fecha_con_resta_meses)"
   ]
  },
  {
   "cell_type": "code",
   "execution_count": 69,
   "id": "80a1ef1d-c2cb-4de3-bdb6-440d72210f57",
   "metadata": {},
   "outputs": [
    {
     "name": "stdout",
     "output_type": "stream",
     "text": [
      "2024-07-25\n"
     ]
    }
   ],
   "source": [
    "#fecha_actual = np.datetime64('today', 'D')\n",
    "fecha_actual = np.datetime64('2024-07-22')\n",
    "\n",
    "# Suma dias específicos con `np.busday_offset` (días hábiles) \n",
    "fecha_con_resta_meses = np.busday_offset(fecha_actual, 3, roll='backward')\n",
    "print(fecha_con_resta_meses)"
   ]
  },
  {
   "cell_type": "code",
   "execution_count": 73,
   "id": "6272479e-1a6c-4358-ab4e-33d1d5a6c513",
   "metadata": {},
   "outputs": [
    {
     "name": "stdout",
     "output_type": "stream",
     "text": [
      "Año: 2024, Mes: 7, Día: 27\n"
     ]
    }
   ],
   "source": [
    "# Crear una fecha específica usando numpy\n",
    "fecha = np.datetime64('2024-07-27')\n",
    "\n",
    "# Convertir a datetime de Python\n",
    "fecha_dt = fecha.astype(datetime)\n",
    "\n",
    "# Extraer partes\n",
    "anio = fecha_dt.year\n",
    "mes = fecha_dt.month\n",
    "dia = fecha_dt.day\n",
    "\n",
    "print(f\"Año: {anio}, Mes: {mes}, Día: {dia}\")"
   ]
  }
 ],
 "metadata": {
  "kernelspec": {
   "display_name": "Python 3 (ipykernel)",
   "language": "python",
   "name": "python3"
  },
  "language_info": {
   "codemirror_mode": {
    "name": "ipython",
    "version": 3
   },
   "file_extension": ".py",
   "mimetype": "text/x-python",
   "name": "python",
   "nbconvert_exporter": "python",
   "pygments_lexer": "ipython3",
   "version": "3.12.4"
  }
 },
 "nbformat": 4,
 "nbformat_minor": 5
}
